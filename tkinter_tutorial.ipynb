{
 "cells": [
  {
   "cell_type": "code",
   "execution_count": 1,
   "id": "2ff5d022",
   "metadata": {},
   "outputs": [],
   "source": [
    "from tkinter import *\n",
    "from typing import List, Tuple, Set, Dict\n",
    "from functions import fully_process"
   ]
  },
  {
   "cell_type": "code",
   "execution_count": 15,
   "id": "2495ef75",
   "metadata": {},
   "outputs": [],
   "source": [
    "# Import Module\n",
    "from tkinter import *\n",
    "\n",
    "# create root window\n",
    "root = Tk()\n",
    "\n",
    "# root window title and dimension\n",
    "root.title(\"Welcome to GeekForGeeks\")\n",
    "# Set geometry(widthxheight)\n",
    "root.geometry('350x200')\n",
    "\n",
    "# adding a label to the root window\n",
    "lbl = Label(root, text = \"Are you a Geek?\")\n",
    "lbl.grid()\n",
    "\n",
    "# adding Entry Field\n",
    "txt = Entry(root, width=10)\n",
    "txt.grid(column =1, row =0)\n",
    "\n",
    "\n",
    "# function to display user text when \n",
    "# button is clicked\n",
    "def clicked():\n",
    "    global txt, lbl\n",
    "    res = \"You wrote: \" + txt.get()\n",
    "    lbl.configure(text = res)\n",
    "\n",
    "# button widget with red color text inside\n",
    "btn = Button(root, text = \"Click me\" ,\n",
    "             fg = \"red\", command=clicked)\n",
    "# Set Button Grid\n",
    "btn.grid(column=2, row=0)\n",
    "\n",
    "# Execute Tkinter\n",
    "root.mainloop()"
   ]
  },
  {
   "cell_type": "code",
   "execution_count": 17,
   "id": "b8b47f06",
   "metadata": {},
   "outputs": [],
   "source": [
    "import tkinter as tk\n",
    "\n",
    "root = tk.Tk()\n",
    "root.title(\"Grid Example\")\n",
    "\n",
    "# Configure grid weights\n",
    "root.grid_rowconfigure(0, weight=1)\n",
    "root.grid_columnconfigure(0, weight=1)\n",
    "\n",
    "# Create widgets\n",
    "label = tk.Label(root, text=\"Username:\", bg=\"lightgray\")\n",
    "entry = tk.Entry(root)\n",
    "button = tk.Button(root, text=\"Submit\")\n",
    "\n",
    "# Arrange widgets\n",
    "label.grid(row=0, column=0, sticky=\"e\", padx=5, pady=5)\n",
    "entry.grid(row=0, column=1, sticky=\"we\", padx=5, pady=5)\n",
    "button.grid(row=1, column=0, columnspan=2, sticky=\"we\", padx=5, pady=5)\n",
    "\n",
    "root.mainloop()"
   ]
  },
  {
   "cell_type": "markdown",
   "id": "69a79df7",
   "metadata": {},
   "source": [
    "## Prototype"
   ]
  },
  {
   "cell_type": "code",
   "execution_count": 9,
   "id": "63e4458d",
   "metadata": {},
   "outputs": [
    {
     "name": "stdout",
     "output_type": "stream",
     "text": [
      "click is working\n",
      "Common mods: [('RHSAFRF', 'https://steamcommunity.com/sharedfiles/filedetails/?id=843425103'), ('BloodLust', 'https://steamcommunity.com/sharedfiles/filedetails/?id=667953829'), ('Breaching Charge', 'https://steamcommunity.com/sharedfiles/filedetails/?id=1314910827'), ('CBA_A3', 'https://steamcommunity.com/sharedfiles/filedetails/?id=450814997'), ('ace', 'https://steamcommunity.com/sharedfiles/filedetails/?id=463939057'), ('Project SFX: Footsteps', 'https://steamcommunity.com/sharedfiles/filedetails/?id=2806487814'), ('Modular Shoothouse Parts', 'https://steamcommunity.com/sharedfiles/filedetails/?id=2975882889'), ('RHSUSAF', 'https://steamcommunity.com/sharedfiles/filedetails/?id=843577117'), ('CUP Units', 'https://steamcommunity.com/sharedfiles/filedetails/?id=497661914'), ('DynaSound 2', 'https://steamcommunity.com/sharedfiles/filedetails/?id=825181638'), ('ACSTG AI Cannot See Through Grass', 'https://steamcommunity.com/sharedfiles/filedetails/?id=2946868556'), ('Zeus Enhanced', 'https://steamcommunity.com/sharedfiles/filedetails/?id=1779063631'), ('DUI - Squad Radar', 'https://steamcommunity.com/sharedfiles/filedetails/?id=1638341685'), ('CUP Weapons', 'https://steamcommunity.com/sharedfiles/filedetails/?id=497660133'), ('DISMEMBERMENT+GORE [SP-MP]', 'https://steamcommunity.com/sharedfiles/filedetails/?id=3226850988'), (\"Sa'hatra\", 'https://steamcommunity.com/sharedfiles/filedetails/?id=3019928771'), ('CUP Terrains - Core', 'https://steamcommunity.com/sharedfiles/filedetails/?id=583496184'), ('Fire Suppression Effect', 'https://steamcommunity.com/sharedfiles/filedetails/?id=2011271525'), ('CUP Vehicles', 'https://steamcommunity.com/sharedfiles/filedetails/?id=541888371'), ('CUP Terrains - Maps', 'https://steamcommunity.com/sharedfiles/filedetails/?id=583544987'), ('Death and Hit reactions', 'https://steamcommunity.com/sharedfiles/filedetails/?id=2993442344')]\n",
      "All unique mods: {('RHSAFRF', 'https://steamcommunity.com/sharedfiles/filedetails/?id=843425103'), ('BloodLust', 'https://steamcommunity.com/sharedfiles/filedetails/?id=667953829'), ('Breaching Charge', 'https://steamcommunity.com/sharedfiles/filedetails/?id=1314910827'), ('CBA_A3', 'https://steamcommunity.com/sharedfiles/filedetails/?id=450814997'), ('Project SFX: Footsteps', 'https://steamcommunity.com/sharedfiles/filedetails/?id=2806487814'), ('ace', 'https://steamcommunity.com/sharedfiles/filedetails/?id=463939057'), ('Modular Shoothouse Parts', 'https://steamcommunity.com/sharedfiles/filedetails/?id=2975882889'), ('Powered by Public Zeus', 'https://steamcommunity.com/sharedfiles/filedetails/?id=2414753203'), ('RHSUSAF', 'https://steamcommunity.com/sharedfiles/filedetails/?id=843577117'), ('CUP Units', 'https://steamcommunity.com/sharedfiles/filedetails/?id=497661914'), ('DynaSound 2', 'https://steamcommunity.com/sharedfiles/filedetails/?id=825181638'), ('ACSTG AI Cannot See Through Grass', 'https://steamcommunity.com/sharedfiles/filedetails/?id=2946868556'), ('Zeus Enhanced', 'https://steamcommunity.com/sharedfiles/filedetails/?id=1779063631'), ('DUI - Squad Radar', 'https://steamcommunity.com/sharedfiles/filedetails/?id=1638341685'), ('CUP Weapons', 'https://steamcommunity.com/sharedfiles/filedetails/?id=497660133'), ('DISMEMBERMENT+GORE [SP-MP]', 'https://steamcommunity.com/sharedfiles/filedetails/?id=3226850988'), (\"Sa'hatra\", 'https://steamcommunity.com/sharedfiles/filedetails/?id=3019928771'), ('CUP Terrains - Core', 'https://steamcommunity.com/sharedfiles/filedetails/?id=583496184'), ('Fire Suppression Effect', 'https://steamcommunity.com/sharedfiles/filedetails/?id=2011271525'), ('CUP Vehicles', 'https://steamcommunity.com/sharedfiles/filedetails/?id=541888371'), ('Russian Tank Series', 'https://steamcommunity.com/sharedfiles/filedetails/?id=3418145558'), ('CUP Terrains - Maps', 'https://steamcommunity.com/sharedfiles/filedetails/?id=583544987'), ('Death and Hit reactions', 'https://steamcommunity.com/sharedfiles/filedetails/?id=2993442344')}\n",
      "Only in first set: set()\n",
      "Only in second set: {('Russian Tank Series', 'https://steamcommunity.com/sharedfiles/filedetails/?id=3418145558'), ('Powered by Public Zeus', 'https://steamcommunity.com/sharedfiles/filedetails/?id=2414753203')}\n",
      "Exclusive to each set: {('Powered by Public Zeus', 'https://steamcommunity.com/sharedfiles/filedetails/?id=2414753203'), ('Russian Tank Series', 'https://steamcommunity.com/sharedfiles/filedetails/?id=3418145558')}\n"
     ]
    }
   ],
   "source": [
    "data: Dict[str, List[Tuple[str, str]]]\n",
    "def test_click(*args) -> None:\n",
    "    global root, data\n",
    "    print(\"click is working\")\n",
    "    OWN_FILE: str = args[0]\n",
    "    OTHER_FILE: str = args[1]\n",
    "    \n",
    "    data = fully_process(OWN_FILE, OTHER_FILE)\n",
    "    \n",
    "    own_only: List[Tuple[str, str]] = data[\"first only\"]\n",
    "    other_only: List[Tuple[str, str]] = data[\"second only\"]\n",
    "    \n",
    "    own_labels: List[Label] = [Label(root, text=f\"{mod[0]}\") for mod in own_only]\n",
    "    other_labels: List[Label] = [Label(root, text=f\"{mod[0]}\") for mod in other_only]\n",
    "    \n",
    "    own_label: Label = Label(root, text=f\"{OWN_FILE}'s exclusive mods:\")\n",
    "    other_label: Label = Label(root, text=f\"{OTHER_FILE}'s exclusive mods:\")\n",
    "    \n",
    "    own_label.grid(column=0, row=2)\n",
    "    other_label.grid(column=0, row=3)\n",
    "    \n",
    "    for idx, label in enumerate(own_labels):\n",
    "        label.grid(column=idx+1, row=2)\n",
    "        \n",
    "    for idx, label in enumerate(other_labels):\n",
    "        label.grid(column=idx+1, row=3)\n",
    "        \n",
    "    \n",
    "    return None\n",
    "    \n",
    "    \n",
    "\n",
    "root = Tk()\n",
    "root.title(\"mod comparer\")\n",
    "root.geometry(\"1000x500\")\n",
    "\n",
    "own_msg = Label(root, text=\"own file: \")\n",
    "other_msg = Label(root, text=\"other file: \")\n",
    "\n",
    "own_entry = Entry(root, width=50)\n",
    "other_entry = Entry(root, width=50)\n",
    "\n",
    "process_button = Button(root, text=\"process\", command=lambda :test_click(own_entry.get(), other_entry.get()))\n",
    "\n",
    "own_msg.grid(column=0, row=0)\n",
    "own_entry.grid(column=1, row=0)\n",
    "\n",
    "other_msg.grid(column=0, row=1)\n",
    "other_entry.grid(column=1, row=1)\n",
    "\n",
    "process_button.grid(column=2, row=0, rowspan=2)\n",
    "\n",
    "root.mainloop()\n"
   ]
  }
 ],
 "metadata": {
  "kernelspec": {
   "display_name": "fresh_env",
   "language": "python",
   "name": "python3"
  },
  "language_info": {
   "codemirror_mode": {
    "name": "ipython",
    "version": 3
   },
   "file_extension": ".py",
   "mimetype": "text/x-python",
   "name": "python",
   "nbconvert_exporter": "python",
   "pygments_lexer": "ipython3",
   "version": "3.13.4"
  }
 },
 "nbformat": 4,
 "nbformat_minor": 5
}
