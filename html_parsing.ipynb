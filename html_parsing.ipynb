{
 "cells": [
  {
   "cell_type": "code",
   "execution_count": 2,
   "id": "f698b7dc",
   "metadata": {},
   "outputs": [],
   "source": [
    "from bs4 import BeautifulSoup\n",
    "from typing import List, Tuple, Set, Dict\n",
    "from functions import parse_mod_file, compare_mod_files, fully_process\n"
   ]
  },
  {
   "cell_type": "code",
   "execution_count": 3,
   "id": "0c0cf9b4",
   "metadata": {},
   "outputs": [
    {
     "name": "stdout",
     "output_type": "stream",
     "text": [
      "Common mods: [('CUP Terrains - Maps', 'https://steamcommunity.com/sharedfiles/filedetails/?id=583544987'), ('BloodLust', 'https://steamcommunity.com/sharedfiles/filedetails/?id=667953829'), ('Zeus Enhanced', 'https://steamcommunity.com/sharedfiles/filedetails/?id=1779063631'), ('ACSTG AI Cannot See Through Grass', 'https://steamcommunity.com/sharedfiles/filedetails/?id=2946868556'), ('Modular Shoothouse Parts', 'https://steamcommunity.com/sharedfiles/filedetails/?id=2975882889'), ('CUP Vehicles', 'https://steamcommunity.com/sharedfiles/filedetails/?id=541888371'), ('Project SFX: Footsteps', 'https://steamcommunity.com/sharedfiles/filedetails/?id=2806487814'), ('DynaSound 2', 'https://steamcommunity.com/sharedfiles/filedetails/?id=825181638'), ('DISMEMBERMENT+GORE [SP-MP]', 'https://steamcommunity.com/sharedfiles/filedetails/?id=3226850988'), ('CBA_A3', 'https://steamcommunity.com/sharedfiles/filedetails/?id=450814997'), ('RHSAFRF', 'https://steamcommunity.com/sharedfiles/filedetails/?id=843425103'), ('DUI - Squad Radar', 'https://steamcommunity.com/sharedfiles/filedetails/?id=1638341685'), ('Death and Hit reactions', 'https://steamcommunity.com/sharedfiles/filedetails/?id=2993442344'), (\"Sa'hatra\", 'https://steamcommunity.com/sharedfiles/filedetails/?id=3019928771'), ('Breaching Charge', 'https://steamcommunity.com/sharedfiles/filedetails/?id=1314910827'), ('ace', 'https://steamcommunity.com/sharedfiles/filedetails/?id=463939057'), ('Fire Suppression Effect', 'https://steamcommunity.com/sharedfiles/filedetails/?id=2011271525'), ('CUP Units', 'https://steamcommunity.com/sharedfiles/filedetails/?id=497661914'), ('CUP Weapons', 'https://steamcommunity.com/sharedfiles/filedetails/?id=497660133'), ('CUP Terrains - Core', 'https://steamcommunity.com/sharedfiles/filedetails/?id=583496184'), ('RHSUSAF', 'https://steamcommunity.com/sharedfiles/filedetails/?id=843577117')]\n",
      "All unique mods: {('BloodLust', 'https://steamcommunity.com/sharedfiles/filedetails/?id=667953829'), ('CUP Terrains - Maps', 'https://steamcommunity.com/sharedfiles/filedetails/?id=583544987'), ('Zeus Enhanced', 'https://steamcommunity.com/sharedfiles/filedetails/?id=1779063631'), ('ACSTG AI Cannot See Through Grass', 'https://steamcommunity.com/sharedfiles/filedetails/?id=2946868556'), ('Modular Shoothouse Parts', 'https://steamcommunity.com/sharedfiles/filedetails/?id=2975882889'), ('CUP Vehicles', 'https://steamcommunity.com/sharedfiles/filedetails/?id=541888371'), ('Project SFX: Footsteps', 'https://steamcommunity.com/sharedfiles/filedetails/?id=2806487814'), ('DynaSound 2', 'https://steamcommunity.com/sharedfiles/filedetails/?id=825181638'), ('DISMEMBERMENT+GORE [SP-MP]', 'https://steamcommunity.com/sharedfiles/filedetails/?id=3226850988'), ('CBA_A3', 'https://steamcommunity.com/sharedfiles/filedetails/?id=450814997'), ('RHSAFRF', 'https://steamcommunity.com/sharedfiles/filedetails/?id=843425103'), ('Russian Tank Series', 'https://steamcommunity.com/sharedfiles/filedetails/?id=3418145558'), ('DUI - Squad Radar', 'https://steamcommunity.com/sharedfiles/filedetails/?id=1638341685'), ('Powered by Public Zeus', 'https://steamcommunity.com/sharedfiles/filedetails/?id=2414753203'), ('Death and Hit reactions', 'https://steamcommunity.com/sharedfiles/filedetails/?id=2993442344'), ('Breaching Charge', 'https://steamcommunity.com/sharedfiles/filedetails/?id=1314910827'), (\"Sa'hatra\", 'https://steamcommunity.com/sharedfiles/filedetails/?id=3019928771'), ('ace', 'https://steamcommunity.com/sharedfiles/filedetails/?id=463939057'), ('Fire Suppression Effect', 'https://steamcommunity.com/sharedfiles/filedetails/?id=2011271525'), ('CUP Units', 'https://steamcommunity.com/sharedfiles/filedetails/?id=497661914'), ('CUP Weapons', 'https://steamcommunity.com/sharedfiles/filedetails/?id=497660133'), ('CUP Terrains - Core', 'https://steamcommunity.com/sharedfiles/filedetails/?id=583496184'), ('RHSUSAF', 'https://steamcommunity.com/sharedfiles/filedetails/?id=843577117')}\n",
      "Only in first set: set()\n",
      "Only in second set: {('Powered by Public Zeus', 'https://steamcommunity.com/sharedfiles/filedetails/?id=2414753203'), ('Russian Tank Series', 'https://steamcommunity.com/sharedfiles/filedetails/?id=3418145558')}\n",
      "Exclusive to each set: {('Powered by Public Zeus', 'https://steamcommunity.com/sharedfiles/filedetails/?id=2414753203'), ('Russian Tank Series', 'https://steamcommunity.com/sharedfiles/filedetails/?id=3418145558')}\n"
     ]
    }
   ],
   "source": [
    "x = fully_process(\"own.html\", \"other.html\")\n",
    "       "
   ]
  }
 ],
 "metadata": {
  "kernelspec": {
   "display_name": "fresh_env",
   "language": "python",
   "name": "python3"
  },
  "language_info": {
   "codemirror_mode": {
    "name": "ipython",
    "version": 3
   },
   "file_extension": ".py",
   "mimetype": "text/x-python",
   "name": "python",
   "nbconvert_exporter": "python",
   "pygments_lexer": "ipython3",
   "version": "3.13.4"
  }
 },
 "nbformat": 4,
 "nbformat_minor": 5
}
